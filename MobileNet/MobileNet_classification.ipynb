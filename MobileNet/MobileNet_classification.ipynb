{
  "nbformat": 4,
  "nbformat_minor": 0,
  "metadata": {
    "colab": {
      "name": "MobileNet classification.ipynb",
      "provenance": [],
      "authorship_tag": "ABX9TyM/Djpu0FO2uRm5mqyv4U/P",
      "include_colab_link": true
    },
    "kernelspec": {
      "name": "python3",
      "display_name": "Python 3"
    },
    "accelerator": "GPU"
  },
  "cells": [
    {
      "cell_type": "markdown",
      "metadata": {
        "id": "view-in-github",
        "colab_type": "text"
      },
      "source": [
        "<a href=\"https://colab.research.google.com/github/farazkhanfk7/dl-models/blob/master/MobileNet/MobileNet_classification.ipynb\" target=\"_parent\"><img src=\"https://colab.research.google.com/assets/colab-badge.svg\" alt=\"Open In Colab\"/></a>"
      ]
    },
    {
      "cell_type": "code",
      "metadata": {
        "id": "KR2Bw_Y3IbSE",
        "colab_type": "code",
        "colab": {}
      },
      "source": [
        "from keras.applications import mobilenet"
      ],
      "execution_count": 1,
      "outputs": []
    },
    {
      "cell_type": "code",
      "metadata": {
        "id": "sBYwp20Na531",
        "colab_type": "code",
        "colab": {
          "base_uri": "https://localhost:8080/",
          "height": 51
        },
        "outputId": "45a39e6d-6490-439b-c208-e098d754fa4d"
      },
      "source": [
        "model=mobilenet.MobileNet(include_top=True,weights='imagenet')"
      ],
      "execution_count": 2,
      "outputs": [
        {
          "output_type": "stream",
          "text": [
            "Downloading data from https://storage.googleapis.com/tensorflow/keras-applications/mobilenet/mobilenet_1_0_224_tf.h5\n",
            "17227776/17225924 [==============================] - 0s 0us/step\n"
          ],
          "name": "stdout"
        }
      ]
    },
    {
      "cell_type": "code",
      "metadata": {
        "id": "vCpG6OYDa9dy",
        "colab_type": "code",
        "colab": {
          "base_uri": "https://localhost:8080/",
          "height": 1000
        },
        "outputId": "c726b991-d7e8-4c11-b7e9-2d3a531972b5"
      },
      "source": [
        "model.layers"
      ],
      "execution_count": 3,
      "outputs": [
        {
          "output_type": "execute_result",
          "data": {
            "text/plain": [
              "[<tensorflow.python.keras.engine.input_layer.InputLayer at 0x7f5b295d0898>,\n",
              " <tensorflow.python.keras.layers.convolutional.ZeroPadding2D at 0x7f5af3f765f8>,\n",
              " <tensorflow.python.keras.layers.convolutional.Conv2D at 0x7f5af3f76780>,\n",
              " <tensorflow.python.keras.layers.normalization_v2.BatchNormalization at 0x7f5af3f76c18>,\n",
              " <tensorflow.python.keras.layers.advanced_activations.ReLU at 0x7f5af37413c8>,\n",
              " <tensorflow.python.keras.layers.convolutional.DepthwiseConv2D at 0x7f5af3741208>,\n",
              " <tensorflow.python.keras.layers.normalization_v2.BatchNormalization at 0x7f5ae0439eb8>,\n",
              " <tensorflow.python.keras.layers.advanced_activations.ReLU at 0x7f5ae0447828>,\n",
              " <tensorflow.python.keras.layers.convolutional.Conv2D at 0x7f5ae0447438>,\n",
              " <tensorflow.python.keras.layers.normalization_v2.BatchNormalization at 0x7f5ae03e5ac8>,\n",
              " <tensorflow.python.keras.layers.advanced_activations.ReLU at 0x7f5ae03e5f98>,\n",
              " <tensorflow.python.keras.layers.convolutional.ZeroPadding2D at 0x7f5ae03e90b8>,\n",
              " <tensorflow.python.keras.layers.convolutional.DepthwiseConv2D at 0x7f5ae03fe9e8>,\n",
              " <tensorflow.python.keras.layers.normalization_v2.BatchNormalization at 0x7f5ae0405be0>,\n",
              " <tensorflow.python.keras.layers.advanced_activations.ReLU at 0x7f5ae040a518>,\n",
              " <tensorflow.python.keras.layers.convolutional.Conv2D at 0x7f5ae040a0b8>,\n",
              " <tensorflow.python.keras.layers.normalization_v2.BatchNormalization at 0x7f5ae03a57b8>,\n",
              " <tensorflow.python.keras.layers.advanced_activations.ReLU at 0x7f5ae03a5b70>,\n",
              " <tensorflow.python.keras.layers.convolutional.DepthwiseConv2D at 0x7f5ae03a5438>,\n",
              " <tensorflow.python.keras.layers.normalization_v2.BatchNormalization at 0x7f5ae03c6588>,\n",
              " <tensorflow.python.keras.layers.advanced_activations.ReLU at 0x7f5ae03c6dd8>,\n",
              " <tensorflow.python.keras.layers.convolutional.Conv2D at 0x7f5ae03c6748>,\n",
              " <tensorflow.python.keras.layers.normalization_v2.BatchNormalization at 0x7f5ae03680f0>,\n",
              " <tensorflow.python.keras.layers.advanced_activations.ReLU at 0x7f5ae03684a8>,\n",
              " <tensorflow.python.keras.layers.convolutional.ZeroPadding2D at 0x7f5ae0368588>,\n",
              " <tensorflow.python.keras.layers.convolutional.DepthwiseConv2D at 0x7f5ae0386198>,\n",
              " <tensorflow.python.keras.layers.normalization_v2.BatchNormalization at 0x7f5ae038b278>,\n",
              " <tensorflow.python.keras.layers.advanced_activations.ReLU at 0x7f5ae038bac8>,\n",
              " <tensorflow.python.keras.layers.convolutional.Conv2D at 0x7f5ae038b438>,\n",
              " <tensorflow.python.keras.layers.normalization_v2.BatchNormalization at 0x7f5ae0325da0>,\n",
              " <tensorflow.python.keras.layers.advanced_activations.ReLU at 0x7f5ae032a198>,\n",
              " <tensorflow.python.keras.layers.convolutional.DepthwiseConv2D at 0x7f5ae032a2b0>,\n",
              " <tensorflow.python.keras.layers.normalization_v2.BatchNormalization at 0x7f5ae0346ac8>,\n",
              " <tensorflow.python.keras.layers.advanced_activations.ReLU at 0x7f5ae034b438>,\n",
              " <tensorflow.python.keras.layers.convolutional.Conv2D at 0x7f5ae034b080>,\n",
              " <tensorflow.python.keras.layers.normalization_v2.BatchNormalization at 0x7f5ae02e76d8>,\n",
              " <tensorflow.python.keras.layers.advanced_activations.ReLU at 0x7f5ae02e7a90>,\n",
              " <tensorflow.python.keras.layers.convolutional.ZeroPadding2D at 0x7f5ae02e7ba8>,\n",
              " <tensorflow.python.keras.layers.convolutional.DepthwiseConv2D at 0x7f5ae0303780>,\n",
              " <tensorflow.python.keras.layers.normalization_v2.BatchNormalization at 0x7f5ae0309a20>,\n",
              " <tensorflow.python.keras.layers.advanced_activations.ReLU at 0x7f5ae0309a58>,\n",
              " <tensorflow.python.keras.layers.convolutional.Conv2D at 0x7f5ae030d1d0>,\n",
              " <tensorflow.python.keras.layers.normalization_v2.BatchNormalization at 0x7f5ae02a93c8>,\n",
              " <tensorflow.python.keras.layers.advanced_activations.ReLU at 0x7f5ae02a9780>,\n",
              " <tensorflow.python.keras.layers.convolutional.DepthwiseConv2D at 0x7f5ae02a9048>,\n",
              " <tensorflow.python.keras.layers.normalization_v2.BatchNormalization at 0x7f5ae02ca320>,\n",
              " <tensorflow.python.keras.layers.advanced_activations.ReLU at 0x7f5ae02caa20>,\n",
              " <tensorflow.python.keras.layers.convolutional.Conv2D at 0x7f5ae02ca668>,\n",
              " <tensorflow.python.keras.layers.normalization_v2.BatchNormalization at 0x7f5ae0268cc0>,\n",
              " <tensorflow.python.keras.layers.advanced_activations.ReLU at 0x7f5ae026b0b8>,\n",
              " <tensorflow.python.keras.layers.convolutional.DepthwiseConv2D at 0x7f5ae026b1d0>,\n",
              " <tensorflow.python.keras.layers.normalization_v2.BatchNormalization at 0x7f5ae02859e8>,\n",
              " <tensorflow.python.keras.layers.advanced_activations.ReLU at 0x7f5ae0285c88>,\n",
              " <tensorflow.python.keras.layers.convolutional.Conv2D at 0x7f5af3ff76d8>,\n",
              " <tensorflow.python.keras.layers.normalization_v2.BatchNormalization at 0x7f5af43c2ef0>,\n",
              " <tensorflow.python.keras.layers.advanced_activations.ReLU at 0x7f5af43c2ba8>,\n",
              " <tensorflow.python.keras.layers.convolutional.DepthwiseConv2D at 0x7f5af43c2940>,\n",
              " <tensorflow.python.keras.layers.normalization_v2.BatchNormalization at 0x7f5af6eb0898>,\n",
              " <tensorflow.python.keras.layers.advanced_activations.ReLU at 0x7f5af6eaf400>,\n",
              " <tensorflow.python.keras.layers.convolutional.Conv2D at 0x7f5af6eafba8>,\n",
              " <tensorflow.python.keras.layers.normalization_v2.BatchNormalization at 0x7f5ae02462b0>,\n",
              " <tensorflow.python.keras.layers.advanced_activations.ReLU at 0x7f5ae0246668>,\n",
              " <tensorflow.python.keras.layers.convolutional.DepthwiseConv2D at 0x7f5ae0246780>,\n",
              " <tensorflow.python.keras.layers.normalization_v2.BatchNormalization at 0x7f5ae01eda58>,\n",
              " <tensorflow.python.keras.layers.advanced_activations.ReLU at 0x7f5ae01f08d0>,\n",
              " <tensorflow.python.keras.layers.convolutional.Conv2D at 0x7f5ae01f0240>,\n",
              " <tensorflow.python.keras.layers.normalization_v2.BatchNormalization at 0x7f5ae020cba8>,\n",
              " <tensorflow.python.keras.layers.advanced_activations.ReLU at 0x7f5ae020cf28>,\n",
              " <tensorflow.python.keras.layers.convolutional.DepthwiseConv2D at 0x7f5ae02120b8>,\n",
              " <tensorflow.python.keras.layers.normalization_v2.BatchNormalization at 0x7f5ae01abb38>,\n",
              " <tensorflow.python.keras.layers.advanced_activations.ReLU at 0x7f5ae01abe10>,\n",
              " <tensorflow.python.keras.layers.convolutional.Conv2D at 0x7f5ae01b3208>,\n",
              " <tensorflow.python.keras.layers.normalization_v2.BatchNormalization at 0x7f5ae01cd4e0>,\n",
              " <tensorflow.python.keras.layers.advanced_activations.ReLU at 0x7f5ae01cd898>,\n",
              " <tensorflow.python.keras.layers.convolutional.ZeroPadding2D at 0x7f5ae01cd9b0>,\n",
              " <tensorflow.python.keras.layers.convolutional.DepthwiseConv2D at 0x7f5ae016a588>,\n",
              " <tensorflow.python.keras.layers.normalization_v2.BatchNormalization at 0x7f5ae016f5f8>,\n",
              " <tensorflow.python.keras.layers.advanced_activations.ReLU at 0x7f5ae016feb8>,\n",
              " <tensorflow.python.keras.layers.convolutional.Conv2D at 0x7f5ae016f860>,\n",
              " <tensorflow.python.keras.layers.normalization_v2.BatchNormalization at 0x7f5ae018e1d0>,\n",
              " <tensorflow.python.keras.layers.advanced_activations.ReLU at 0x7f5ae018e588>,\n",
              " <tensorflow.python.keras.layers.convolutional.DepthwiseConv2D at 0x7f5ae018e6a0>,\n",
              " <tensorflow.python.keras.layers.normalization_v2.BatchNormalization at 0x7f5ae012feb8>,\n",
              " <tensorflow.python.keras.layers.advanced_activations.ReLU at 0x7f5ae01347f0>,\n",
              " <tensorflow.python.keras.layers.convolutional.Conv2D at 0x7f5ae0134160>,\n",
              " <tensorflow.python.keras.layers.normalization_v2.BatchNormalization at 0x7f5ae014eac8>,\n",
              " <tensorflow.python.keras.layers.advanced_activations.ReLU at 0x7f5ae014ef98>,\n",
              " <tensorflow.python.keras.layers.pooling.GlobalAveragePooling2D at 0x7f5ae0151160>,\n",
              " <tensorflow.python.keras.layers.core.Reshape at 0x7f5ae00e8b70>,\n",
              " <tensorflow.python.keras.layers.core.Dropout at 0x7f5ae00ed9e8>,\n",
              " <tensorflow.python.keras.layers.convolutional.Conv2D at 0x7f5ae00ed860>,\n",
              " <tensorflow.python.keras.layers.core.Reshape at 0x7f5ae00fff98>,\n",
              " <tensorflow.python.keras.layers.core.Activation at 0x7f5ae00ffcc0>]"
            ]
          },
          "metadata": {
            "tags": []
          },
          "execution_count": 3
        }
      ]
    },
    {
      "cell_type": "code",
      "metadata": {
        "id": "bTyBLJCibBaR",
        "colab_type": "code",
        "colab": {}
      },
      "source": [
        "from keras.preprocessing import image\n",
        "import tensorflow as tf"
      ],
      "execution_count": 5,
      "outputs": []
    },
    {
      "cell_type": "code",
      "metadata": {
        "id": "8Ie-_BKXbG2B",
        "colab_type": "code",
        "colab": {}
      },
      "source": [
        "img_height, img_width=224,224"
      ],
      "execution_count": 6,
      "outputs": []
    },
    {
      "cell_type": "code",
      "metadata": {
        "id": "Igp9tSXfbNcR",
        "colab_type": "code",
        "colab": {
          "base_uri": "https://localhost:8080/",
          "height": 204
        },
        "outputId": "e128f9bb-9c21-4734-fd1b-e19075ed54df"
      },
      "source": [
        "!wget https://raw.githubusercontent.com/sharmasw/ImageClassification_DjangoApp/master/notebook/imagenet_classes.json"
      ],
      "execution_count": 7,
      "outputs": [
        {
          "output_type": "stream",
          "text": [
            "--2020-09-10 05:12:59--  https://raw.githubusercontent.com/sharmasw/ImageClassification_DjangoApp/master/notebook/imagenet_classes.json\n",
            "Resolving raw.githubusercontent.com (raw.githubusercontent.com)... 151.101.0.133, 151.101.64.133, 151.101.128.133, ...\n",
            "Connecting to raw.githubusercontent.com (raw.githubusercontent.com)|151.101.0.133|:443... connected.\n",
            "HTTP request sent, awaiting response... 200 OK\n",
            "Length: 35367 (35K) [text/plain]\n",
            "Saving to: ‘imagenet_classes.json’\n",
            "\n",
            "imagenet_classes.js 100%[===================>]  34.54K  --.-KB/s    in 0.01s   \n",
            "\n",
            "2020-09-10 05:12:59 (2.42 MB/s) - ‘imagenet_classes.json’ saved [35367/35367]\n",
            "\n"
          ],
          "name": "stdout"
        }
      ]
    },
    {
      "cell_type": "code",
      "metadata": {
        "id": "NM21ro-NblsA",
        "colab_type": "code",
        "colab": {}
      },
      "source": [
        "with open('imagenet_classes.json','r') as f:\n",
        "    labelInfo=f.read()"
      ],
      "execution_count": 8,
      "outputs": []
    },
    {
      "cell_type": "code",
      "metadata": {
        "id": "UQVtUvCkbqBw",
        "colab_type": "code",
        "colab": {}
      },
      "source": [
        "import json"
      ],
      "execution_count": 9,
      "outputs": []
    },
    {
      "cell_type": "code",
      "metadata": {
        "id": "WCplGx2Gbs1A",
        "colab_type": "code",
        "colab": {}
      },
      "source": [
        "labelInfo=json.loads(labelInfo)"
      ],
      "execution_count": 10,
      "outputs": []
    },
    {
      "cell_type": "code",
      "metadata": {
        "id": "A8nm5qkwbuyA",
        "colab_type": "code",
        "colab": {}
      },
      "source": [
        "testimage='sumatran-tiger-wz-gsmp-m.jpg'"
      ],
      "execution_count": 11,
      "outputs": []
    },
    {
      "cell_type": "code",
      "metadata": {
        "id": "A4fAswmud_Zq",
        "colab_type": "code",
        "colab": {}
      },
      "source": [
        "#loading and reshaping image\n",
        "img = image.load_img(testimage, target_size=(img_height, img_width))\n",
        "x = image.img_to_array(img)\n",
        "x=x/255\n",
        "x=x.reshape(1,img_height, img_width,3)"
      ],
      "execution_count": 12,
      "outputs": []
    },
    {
      "cell_type": "code",
      "metadata": {
        "id": "G7u6WXw-eICJ",
        "colab_type": "code",
        "colab": {}
      },
      "source": [
        "predi=model.predict(x)"
      ],
      "execution_count": 13,
      "outputs": []
    },
    {
      "cell_type": "code",
      "metadata": {
        "id": "M96XDEzweMGZ",
        "colab_type": "code",
        "colab": {
          "base_uri": "https://localhost:8080/",
          "height": 34
        },
        "outputId": "2fa56e9f-034a-480d-bd92-2860a273cd9f"
      },
      "source": [
        "#prediction label\n",
        "import numpy as np\n",
        "np.argmax(predi[0])"
      ],
      "execution_count": 14,
      "outputs": [
        {
          "output_type": "execute_result",
          "data": {
            "text/plain": [
              "292"
            ]
          },
          "metadata": {
            "tags": []
          },
          "execution_count": 14
        }
      ]
    },
    {
      "cell_type": "code",
      "metadata": {
        "id": "BuvPCoKqeSmJ",
        "colab_type": "code",
        "colab": {
          "base_uri": "https://localhost:8080/",
          "height": 34
        },
        "outputId": "6323d6a9-40b9-4618-fe50-a247d508aa76"
      },
      "source": [
        "labelInfo['292']"
      ],
      "execution_count": 15,
      "outputs": [
        {
          "output_type": "execute_result",
          "data": {
            "text/plain": [
              "['n02129604', 'tiger']"
            ]
          },
          "metadata": {
            "tags": []
          },
          "execution_count": 15
        }
      ]
    },
    {
      "cell_type": "code",
      "metadata": {
        "id": "mXi01NcaeVUZ",
        "colab_type": "code",
        "colab": {}
      },
      "source": [
        "model.save('MobileNetModelImagenet.h5')"
      ],
      "execution_count": 16,
      "outputs": []
    },
    {
      "cell_type": "code",
      "metadata": {
        "id": "wQ8Gjb8HecB4",
        "colab_type": "code",
        "colab": {}
      },
      "source": [
        "\n"
      ],
      "execution_count": null,
      "outputs": []
    }
  ]
}